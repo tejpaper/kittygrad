{
 "cells": [
  {
   "cell_type": "code",
   "execution_count": 1,
   "outputs": [],
   "source": [
    "%load_ext autoreload\n",
    "%autoreload 2"
   ],
   "metadata": {
    "collapsed": false,
    "ExecuteTime": {
     "end_time": "2023-08-26T11:41:37.346166594Z",
     "start_time": "2023-08-26T11:41:37.345509983Z"
    }
   },
   "id": "1045294aa107561c"
  },
  {
   "cell_type": "code",
   "execution_count": 10,
   "outputs": [],
   "source": [
    "import torch\n",
    "import kittygrad as kitty"
   ],
   "metadata": {
    "collapsed": false,
    "ExecuteTime": {
     "end_time": "2023-08-26T11:47:05.264217197Z",
     "start_time": "2023-08-26T11:47:05.232794899Z"
    }
   },
   "id": "initial_id"
  },
  {
   "cell_type": "markdown",
   "source": [
    "# First test"
   ],
   "metadata": {
    "collapsed": false
   },
   "id": "8d7915fa93c996d1"
  },
  {
   "cell_type": "code",
   "execution_count": 56,
   "outputs": [],
   "source": [
    "a = torch.tensor([1, 2, 3.])\n",
    "b = a\n",
    "b[1] = 100\n",
    "a"
   ],
   "metadata": {
    "collapsed": false,
    "ExecuteTime": {
     "end_time": "2023-08-26T12:27:14.281461675Z",
     "start_time": "2023-08-26T12:27:14.236796697Z"
    }
   },
   "id": "b80a73dd6e6a4c4d"
  },
  {
   "cell_type": "code",
   "execution_count": 50,
   "outputs": [],
   "source": [
    "a = kitty.tensor([1, 2, 3])\n",
    "b = a\n",
    "b[1] = 100\n",
    "a"
   ],
   "metadata": {
    "collapsed": false,
    "ExecuteTime": {
     "start_time": "2023-08-26T12:26:33.091656331Z"
    }
   },
   "id": "fc89b437b4243712"
  },
  {
   "cell_type": "markdown",
   "source": [
    "# Second test"
   ],
   "metadata": {
    "collapsed": false
   },
   "id": "5fea7306d43a8785"
  },
  {
   "cell_type": "code",
   "execution_count": 75,
   "outputs": [],
   "source": [
    "a = torch.tensor([1., 2, 3])\n",
    "b = a[:2]\n",
    "b"
   ],
   "metadata": {
    "collapsed": false,
    "ExecuteTime": {
     "end_time": "2023-08-26T12:32:15.372887214Z",
     "start_time": "2023-08-26T12:32:15.324380599Z"
    }
   },
   "id": "8fb87831f5d49e0f"
  },
  {
   "cell_type": "code",
   "execution_count": 77,
   "outputs": [],
   "source": [
    "b[0] = 1000\n",
    "a"
   ],
   "metadata": {
    "collapsed": false,
    "ExecuteTime": {
     "end_time": "2023-08-26T12:32:17.605730626Z",
     "start_time": "2023-08-26T12:32:17.570638620Z"
    }
   },
   "id": "601145f0b215b304"
  },
  {
   "cell_type": "code",
   "execution_count": 89,
   "outputs": [],
   "source": [
    "a = kitty.tensor([1., 2, 3])\n",
    "b = a[:2]\n",
    "b"
   ],
   "metadata": {
    "collapsed": false,
    "ExecuteTime": {
     "end_time": "2023-08-26T12:46:12.386585470Z",
     "start_time": "2023-08-26T12:46:11.973360848Z"
    }
   },
   "id": "47a99fcebe6edab8"
  },
  {
   "cell_type": "code",
   "execution_count": 91,
   "outputs": [],
   "source": [
    "b[0] = 1000\n",
    "a"
   ],
   "metadata": {
    "collapsed": false,
    "ExecuteTime": {
     "end_time": "2023-08-26T12:46:14.022342693Z",
     "start_time": "2023-08-26T12:46:13.984596733Z"
    }
   },
   "id": "b325e13a3139dd8a"
  },
  {
   "cell_type": "markdown",
   "source": [
    "# Third test"
   ],
   "metadata": {
    "collapsed": false
   },
   "id": "3b210514156a37c6"
  },
  {
   "cell_type": "code",
   "execution_count": 97,
   "outputs": [
    {
     "data": {
      "text/plain": "tensor([100.,   2.,   3.])"
     },
     "execution_count": 97,
     "metadata": {},
     "output_type": "execute_result"
    }
   ],
   "source": [
    "a = torch.tensor([1, 2, 3.])\n",
    "a.data[0] = 100\n",
    "a"
   ],
   "metadata": {
    "collapsed": false,
    "ExecuteTime": {
     "end_time": "2023-08-26T12:49:18.297121054Z",
     "start_time": "2023-08-26T12:49:18.250359335Z"
    }
   },
   "id": "6bf643574db8c0b8"
  },
  {
   "cell_type": "code",
   "execution_count": 98,
   "outputs": [
    {
     "data": {
      "text/plain": "tensor([100.,   2.,   3.])"
     },
     "execution_count": 98,
     "metadata": {},
     "output_type": "execute_result"
    }
   ],
   "source": [
    "a = kitty.tensor([1, 2, 3.])\n",
    "a.data[0] = 100\n",
    "a"
   ],
   "metadata": {
    "collapsed": false,
    "ExecuteTime": {
     "end_time": "2023-08-26T12:49:25.534731538Z",
     "start_time": "2023-08-26T12:49:25.440887819Z"
    }
   },
   "id": "279debca097708b"
  },
  {
   "cell_type": "markdown",
   "source": [
    "# Fourth test"
   ],
   "metadata": {
    "collapsed": false
   },
   "id": "54d912fb929c736b"
  },
  {
   "cell_type": "code",
   "execution_count": 101,
   "outputs": [
    {
     "data": {
      "text/plain": "tensor([[1., 3.],\n        [4., 6.]])"
     },
     "execution_count": 101,
     "metadata": {},
     "output_type": "execute_result"
    }
   ],
   "source": [
    "a = torch.tensor([[1, 2, 3], [4, 5, 6.]])\n",
    "a[:, ::2]"
   ],
   "metadata": {
    "collapsed": false,
    "ExecuteTime": {
     "end_time": "2023-08-26T13:00:49.244142057Z",
     "start_time": "2023-08-26T13:00:49.204150985Z"
    }
   },
   "id": "613e1cc70cfa87a2"
  },
  {
   "cell_type": "code",
   "execution_count": 102,
   "outputs": [
    {
     "data": {
      "text/plain": "tensor([[1., 3.],\n        [4., 6.]])"
     },
     "execution_count": 102,
     "metadata": {},
     "output_type": "execute_result"
    }
   ],
   "source": [
    "a = kitty.tensor([[1, 2, 3], [4, 5, 6]])\n",
    "a[:, ::2]"
   ],
   "metadata": {
    "collapsed": false,
    "ExecuteTime": {
     "end_time": "2023-08-26T13:00:50.383432867Z",
     "start_time": "2023-08-26T13:00:50.354492999Z"
    }
   },
   "id": "d99d8a67c885b9f8"
  },
  {
   "cell_type": "markdown",
   "source": [
    "# Fifth test"
   ],
   "metadata": {
    "collapsed": false
   },
   "id": "7a804b01255a9ce4"
  },
  {
   "cell_type": "code",
   "execution_count": 104,
   "outputs": [
    {
     "data": {
      "text/plain": "tensor([[0., 0.],\n        [1., 2.],\n        [0., 0.]])"
     },
     "execution_count": 104,
     "metadata": {},
     "output_type": "execute_result"
    }
   ],
   "source": [
    "a = torch.tensor([1, 2.])\n",
    "b = torch.tensor([[0, 0.], [0, 0], [0, 0]])\n",
    "b[1] = a\n",
    "b"
   ],
   "metadata": {
    "collapsed": false,
    "ExecuteTime": {
     "end_time": "2023-08-26T13:04:35.316456475Z",
     "start_time": "2023-08-26T13:04:35.290135331Z"
    }
   },
   "id": "1d8e3298ce9cec01"
  },
  {
   "cell_type": "code",
   "execution_count": 105,
   "outputs": [
    {
     "data": {
      "text/plain": "tensor([[0., 0.],\n        [1., 2.],\n        [0., 0.]])"
     },
     "execution_count": 105,
     "metadata": {},
     "output_type": "execute_result"
    }
   ],
   "source": [
    "a[0] = 1000\n",
    "b"
   ],
   "metadata": {
    "collapsed": false,
    "ExecuteTime": {
     "end_time": "2023-08-26T13:04:49.304812815Z",
     "start_time": "2023-08-26T13:04:49.257262123Z"
    }
   },
   "id": "254472092226e83"
  },
  {
   "cell_type": "code",
   "execution_count": 106,
   "outputs": [
    {
     "data": {
      "text/plain": "tensor([[0., 0.],\n        [1., 2.],\n        [0., 0.]])"
     },
     "execution_count": 106,
     "metadata": {},
     "output_type": "execute_result"
    }
   ],
   "source": [
    "a = kitty.tensor([1, 2.])\n",
    "b = kitty.tensor([[0, 0.], [0, 0], [0, 0]])\n",
    "b[1] = a\n",
    "b"
   ],
   "metadata": {
    "collapsed": false,
    "ExecuteTime": {
     "end_time": "2023-08-26T13:05:13.727940842Z",
     "start_time": "2023-08-26T13:05:13.674701264Z"
    }
   },
   "id": "ac542046a17d8b3a"
  },
  {
   "cell_type": "code",
   "execution_count": 107,
   "outputs": [
    {
     "data": {
      "text/plain": "tensor([[0., 0.],\n        [1., 2.],\n        [0., 0.]])"
     },
     "execution_count": 107,
     "metadata": {},
     "output_type": "execute_result"
    }
   ],
   "source": [
    "a[0] = 1000\n",
    "b"
   ],
   "metadata": {
    "collapsed": false,
    "ExecuteTime": {
     "end_time": "2023-08-26T13:05:14.547736228Z",
     "start_time": "2023-08-26T13:05:14.447454433Z"
    }
   },
   "id": "3b84ba6ce513af32"
  },
  {
   "cell_type": "code",
   "execution_count": null,
   "outputs": [],
   "source": [],
   "metadata": {
    "collapsed": false
   },
   "id": "e9556381ebdb3234"
  }
 ],
 "metadata": {
  "kernelspec": {
   "display_name": "Python 3",
   "language": "python",
   "name": "python3"
  },
  "language_info": {
   "codemirror_mode": {
    "name": "ipython",
    "version": 2
   },
   "file_extension": ".py",
   "mimetype": "text/x-python",
   "name": "python",
   "nbconvert_exporter": "python",
   "pygments_lexer": "ipython2",
   "version": "2.7.6"
  }
 },
 "nbformat": 4,
 "nbformat_minor": 5
}
