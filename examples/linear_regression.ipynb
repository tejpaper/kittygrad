{
 "cells": [
  {
   "cell_type": "code",
   "execution_count": 1,
   "id": "initial_id",
   "metadata": {
    "ExecuteTime": {
     "end_time": "2024-01-30T13:51:59.468508801Z",
     "start_time": "2024-01-30T13:51:59.423365845Z"
    }
   },
   "source": [
    "import kittygrad as kitty\n",
    "\n",
    "import seaborn as sns\n",
    "import matplotlib.pyplot as plt"
   ],
   "outputs": []
  },
  {
   "cell_type": "code",
   "execution_count": 2,
   "id": "e8a3cd156ffd96cb",
   "metadata": {
    "collapsed": false,
    "ExecuteTime": {
     "end_time": "2024-01-30T13:51:59.469291087Z",
     "start_time": "2024-01-30T13:51:59.467889050Z"
    }
   },
   "source": [
    "sns.set_style('white')"
   ],
   "outputs": []
  },
  {
   "cell_type": "code",
   "execution_count": 3,
   "id": "aacfae97d84e1a52",
   "metadata": {
    "collapsed": false,
    "ExecuteTime": {
     "end_time": "2024-01-30T13:51:59.469801524Z",
     "start_time": "2024-01-30T13:51:59.468230981Z"
    }
   },
   "source": [
    "X = kitty.tensor([\n",
    "    [1, 1],\n",
    "    [1, 2],\n",
    "    [1, 3],\n",
    "    [1, 4],\n",
    "])\n",
    "y_true = kitty.tensor([1, 2, 3, 10])"
   ],
   "outputs": []
  },
  {
   "cell_type": "code",
   "execution_count": 4,
   "id": "7e4ff78733c5de48",
   "metadata": {
    "collapsed": false,
    "ExecuteTime": {
     "end_time": "2024-01-30T13:51:59.470250225Z",
     "start_time": "2024-01-30T13:51:59.468426066Z"
    }
   },
   "source": [
    "n_iter = 400\n",
    "learning_rate = 0.3\n",
    "\n",
    "init_w1 = [-0.5, -5]\n",
    "init_w2 = [-5, 7.6]"
   ],
   "outputs": []
  },
  {
   "cell_type": "markdown",
   "id": "7ee67cc262a325f5",
   "metadata": {
    "collapsed": false
   },
   "source": [
    "# RMSE Loss With Custom Backward Pass "
   ]
  },
  {
   "cell_type": "code",
   "execution_count": 5,
   "id": "f9686cb6f625a0ee",
   "metadata": {
    "collapsed": false,
    "ExecuteTime": {
     "end_time": "2024-01-30T13:51:59.527171172Z",
     "start_time": "2024-01-30T13:51:59.515598496Z"
    }
   },
   "source": [
    "class RMSELoss(kitty.Function, output_version_check=True):\n",
    "    def forward(self, y_true, y_pred):\n",
    "        self.ctx.residuals = y_true - y_pred\n",
    "        return (self.ctx.residuals ** 2).mean() ** 0.5\n",
    "\n",
    "    def backward(self, grad):\n",
    "        return (None,  # w.r.t. y_true\n",
    "                -self.ctx.residuals / self.ctx.residuals.nelement() / self.ctx.out)"
   ],
   "outputs": []
  },
  {
   "cell_type": "code",
   "execution_count": 6,
   "id": "5cba5d830149fb95",
   "metadata": {
    "collapsed": false,
    "ExecuteTime": {
     "end_time": "2024-01-30T13:51:59.591746584Z",
     "start_time": "2024-01-30T13:51:59.515778683Z"
    }
   },
   "source": [
    "criterion = RMSELoss()\n",
    "weights = kitty.tensor(init_w1, requires_grad=True)\n",
    "\n",
    "# visualization\n",
    "with kitty.CompGraph() as dot:\n",
    "    y_pred = kitty.mv(X, weights)\n",
    "    loss = criterion(y_true, y_pred)\n",
    "dot"
   ],
   "outputs": []
  },
  {
   "cell_type": "code",
   "execution_count": 7,
   "id": "494449016f26e8b7",
   "metadata": {
    "collapsed": false,
    "ExecuteTime": {
     "end_time": "2024-01-30T13:51:59.592529561Z",
     "start_time": "2024-01-30T13:51:59.587702165Z"
    }
   },
   "source": [
    "# gradient calculation\n",
    "loss.backward()\n",
    "weights.grad"
   ],
   "outputs": []
  },
  {
   "cell_type": "markdown",
   "id": "2b3180b8a888aa1d",
   "metadata": {
    "collapsed": false
   },
   "source": [
    "# Gradient Descent"
   ]
  },
  {
   "cell_type": "code",
   "execution_count": 8,
   "id": "32302e1f51ed4acd",
   "metadata": {
    "collapsed": false,
    "ExecuteTime": {
     "end_time": "2024-01-30T13:51:59.592936043Z",
     "start_time": "2024-01-30T13:51:59.587861473Z"
    }
   },
   "source": [
    "def mae_loss(y_true, y_pred):\n",
    "    return (y_true - y_pred).abs().mean()\n",
    "\n",
    "def huber_loss(y_true, y_pred, delta=1):\n",
    "    abs_residuals = (y_true - y_pred).abs()\n",
    "    loss_i = (abs_residuals ** 2) / 2\n",
    "    loss_i[abs_residuals > delta] = delta * (abs_residuals[abs_residuals > delta] - delta / 2)\n",
    "    return loss_i.mean()"
   ],
   "outputs": []
  },
  {
   "cell_type": "code",
   "execution_count": 9,
   "id": "ac2a1da50fe912b5",
   "metadata": {
    "collapsed": false,
    "ExecuteTime": {
     "end_time": "2024-01-30T13:51:59.593327927Z",
     "start_time": "2024-01-30T13:51:59.587934039Z"
    }
   },
   "source": [
    "def train(criterion):\n",
    "    tracks = []\n",
    "    losses = []\n",
    "    \n",
    "    for init_weights in (init_w1, init_w2):\n",
    "        weights = kitty.tensor(init_weights, requires_grad=True)\n",
    "        tracks.append([weights.numpy(copy=True)])\n",
    "        losses.append([])\n",
    "        \n",
    "        # gradient descent\n",
    "        for _ in range(n_iter):\n",
    "            weights.grad = None\n",
    "        \n",
    "            y_pred = kitty.mv(X, weights)\n",
    "            loss = criterion(y_true, y_pred)\n",
    "            loss.backward()\n",
    "        \n",
    "            with kitty.no_grad():\n",
    "                weights -= learning_rate * weights.grad\n",
    "            \n",
    "            tracks[-1].append(weights.numpy(copy=True))\n",
    "            losses[-1].append(loss.item())\n",
    "            \n",
    "    return tracks, losses"
   ],
   "outputs": []
  },
  {
   "cell_type": "code",
   "execution_count": 10,
   "id": "570d0248a891e67b",
   "metadata": {
    "collapsed": false,
    "ExecuteTime": {
     "end_time": "2024-01-30T13:51:59.593715543Z",
     "start_time": "2024-01-30T13:51:59.587999642Z"
    }
   },
   "source": [
    "rmse_loss = RMSELoss()"
   ],
   "outputs": []
  },
  {
   "cell_type": "code",
   "execution_count": 11,
   "id": "a59f7b2148f56c68",
   "metadata": {
    "collapsed": false,
    "ExecuteTime": {
     "end_time": "2024-01-30T13:52:00.697610225Z",
     "start_time": "2024-01-30T13:51:59.588062019Z"
    }
   },
   "source": [
    "rmse_tracks, rmse_losses = train(rmse_loss)\n",
    "mae_tracks, mae_losses = train(mae_loss)\n",
    "huber_tracks, huber_losses = train(huber_loss)"
   ],
   "outputs": []
  },
  {
   "cell_type": "code",
   "execution_count": 12,
   "id": "9e7fb7dc77f6ab86",
   "metadata": {
    "collapsed": false,
    "ExecuteTime": {
     "end_time": "2024-01-30T13:52:00.744242863Z",
     "start_time": "2024-01-30T13:52:00.700685428Z"
    }
   },
   "source": [
    "final_weights = kitty.tensor(rmse_tracks[1][-1], requires_grad=True)\n",
    "y_pred = kitty.mv(X, final_weights)\n",
    "rmse_loss(y_true, y_pred).backward()\n",
    "final_weights.grad.abs().sum()"
   ],
   "outputs": []
  },
  {
   "cell_type": "markdown",
   "id": "4c803cef08955bde",
   "metadata": {
    "collapsed": false
   },
   "source": [
    "A near zero gradient norm means that we have found the optimum. The same can be done for the other weights."
   ]
  },
  {
   "cell_type": "code",
   "execution_count": 13,
   "id": "63116049e90c8998",
   "metadata": {
    "collapsed": false,
    "ExecuteTime": {
     "end_time": "2024-01-30T13:52:00.746312251Z",
     "start_time": "2024-01-30T13:52:00.743766681Z"
    }
   },
   "source": [
    "print(\n",
    "    'RMSE results\\n',\n",
    "    '\\tInitial weights: [{:.02f}, {:.02f}]'.format(*rmse_tracks[0][0]),\n",
    "    '\\tFinal weights: [{:.02f}, {:.02f}]'.format(*rmse_tracks[0][-1]),\n",
    "    f'\\tLoss: {rmse_losses[0][-1]:.02f}',\n",
    "    '\\tInitial weights: [{:.02f}, {:.02f}]'.format(*rmse_tracks[1][0]),\n",
    "    '\\tFinal weights: [{:.02f}, {:.02f}]'.format(*rmse_tracks[1][-1]),\n",
    "    f'\\tLoss: {rmse_losses[1][-1]:.02f}',\n",
    "    '',\n",
    "    'MAE results\\n',\n",
    "    '\\tInitial weights: [{:.02f}, {:.02f}]'.format(*mae_tracks[0][0]),\n",
    "    '\\tFinal weights: [{:.02f}, {:.02f}]'.format(*mae_tracks[0][-1]),\n",
    "    f'\\tLoss: {mae_losses[0][-1]:.02f}',\n",
    "    '\\tInitial weights: [{:.02f}, {:.02f}]'.format(*mae_tracks[1][0]),\n",
    "    '\\tFinal weights: [{:.02f}, {:.02f}]'.format(*mae_tracks[1][-1]),\n",
    "    f'\\tLoss: {mae_losses[1][-1]:.02f}',\n",
    "    '',\n",
    "    'Huber Loss results\\n',\n",
    "    '\\tInitial weights: [{:.02f}, {:.02f}]'.format(*huber_tracks[0][0]),\n",
    "    '\\tFinal weights: [{:.02f}, {:.02f}]'.format(*huber_tracks[0][-1]),\n",
    "    f'\\tLoss: {huber_losses[0][-1]:.02f}',\n",
    "    '\\tInitial weights: [{:.02f}, {:.02f}]'.format(*huber_tracks[1][0]),\n",
    "    '\\tFinal weights: [{:.02f}, {:.02f}]'.format(*huber_tracks[1][-1]),\n",
    "    f'\\tLoss: {huber_losses[1][-1]:.02f}',\n",
    "sep='\\n')"
   ],
   "outputs": []
  },
  {
   "cell_type": "code",
   "execution_count": 14,
   "id": "d65547a5c301779b",
   "metadata": {
    "collapsed": false,
    "ExecuteTime": {
     "end_time": "2024-01-30T13:52:00.993143732Z",
     "start_time": "2024-01-30T13:52:00.744007051Z"
    }
   },
   "source": [
    "_, ax = plt.subplots(figsize=(8, 6))\n",
    "\n",
    "x_min, x_max = 0.5, 4.5\n",
    "ax.set_xlim([x_min, x_max])\n",
    "ax.set_xlabel('x')\n",
    "\n",
    "ax.set_ylim([-4, 12])\n",
    "ax.set_ylabel('y')\n",
    "\n",
    "ax.set_title('Example of two MAE global minima')\n",
    "ax.grid()\n",
    "\n",
    "sns.scatterplot(\n",
    "    x=X[:, 1],\n",
    "    y=y_true,\n",
    "    ax=ax,\n",
    ")\n",
    "for i in range(2):\n",
    "    sns.lineplot(\n",
    "        x=[x_min, x_max],\n",
    "        y=[([1, x_min] * mae_tracks[i][-1]).sum(), ([1, x_max] * mae_tracks[i][-1]).sum()],\n",
    "        label=f'MAE = {mae_losses[i][-1]}',\n",
    "    )"
   ],
   "outputs": []
  },
  {
   "cell_type": "code",
   "source": [],
   "metadata": {
    "collapsed": false,
    "ExecuteTime": {
     "end_time": "2024-01-30T13:52:01.064759397Z",
     "start_time": "2024-01-30T13:52:00.994102940Z"
    }
   },
   "id": "8c01073a220eb281",
   "execution_count": 14,
   "outputs": []
  }
 ],
 "metadata": {
  "kernelspec": {
   "display_name": "Python 3 (ipykernel)",
   "language": "python",
   "name": "python3"
  },
  "language_info": {
   "codemirror_mode": {
    "name": "ipython",
    "version": 3
   },
   "file_extension": ".py",
   "mimetype": "text/x-python",
   "name": "python",
   "nbconvert_exporter": "python",
   "pygments_lexer": "ipython3",
   "version": "3.11.7"
  }
 },
 "nbformat": 4,
 "nbformat_minor": 5
}
